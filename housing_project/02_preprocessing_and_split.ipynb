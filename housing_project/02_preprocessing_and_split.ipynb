{
  "nbformat": 4,
  "nbformat_minor": 0,
  "metadata": {
    "colab": {
      "provenance": [],
      "authorship_tag": "ABX9TyMsHOjNh7GLiEZVb4A3TDNP",
      "include_colab_link": true
    },
    "kernelspec": {
      "name": "python3",
      "display_name": "Python 3"
    },
    "language_info": {
      "name": "python"
    }
  },
  "cells": [
    {
      "cell_type": "markdown",
      "metadata": {
        "id": "view-in-github",
        "colab_type": "text"
      },
      "source": [
        "<a href=\"https://colab.research.google.com/github/mortymh/moryton/blob/master/02_preprocessing_and_split.ipynb\" target=\"_parent\"><img src=\"https://colab.research.google.com/assets/colab-badge.svg\" alt=\"Open In Colab\"/></a>"
      ]
    },
    {
      "cell_type": "code",
      "execution_count": null,
      "metadata": {
        "id": "j9qNeXzctyHO"
      },
      "outputs": [],
      "source": [
        "# 📘 مرحله دوم: پیش‌پردازش و تقسیم داده‌ها\n",
        "در این مرحله، داده‌ها را آماده‌سازی می‌کنیم: از بین بردن مقادیر گمشده، نرمال‌سازی ویژگی‌ها، تبدیل داده‌های متنی به عددی، و سپس تقسیم داده‌ها به مجموعه‌های آموزش و آزمون.\n"
      ]
    },
    {
      "cell_type": "code",
      "source": [
        "from sklearn.preprocessing import LabelEncoder\n",
        "import pandas as pd\n",
        "\n",
        "# پر کردن مقادیر گمشده با میانگین\n",
        "df['total_bedrooms'] = df['total_bedrooms'].fillna(df['total_bedrooms'].mean())\n"
      ],
      "metadata": {
        "id": "IaJBO-Ppt00R"
      },
      "execution_count": null,
      "outputs": []
    },
    {
      "cell_type": "code",
      "source": [
        "# Label Encoding برای ستون متنی\n",
        "encoder = LabelEncoder()\n",
        "df['ocean_proximity'] = encoder.fit_transform(df['ocean_proximity'])\n"
      ],
      "metadata": {
        "id": "FpLzlApauHKX"
      },
      "execution_count": null,
      "outputs": []
    },
    {
      "cell_type": "code",
      "source": [
        "from sklearn.preprocessing import StandardScaler\n",
        "\n",
        "# جدا کردن ویژگی‌ها از هدف\n",
        "features = df.drop('median_house_value', axis=1)\n",
        "scaler = StandardScaler()\n",
        "scaled_features = scaler.fit_transform(features)\n"
      ],
      "metadata": {
        "id": "0kjoBQfkuIkv"
      },
      "execution_count": null,
      "outputs": []
    },
    {
      "cell_type": "code",
      "source": [
        "# بازسازی DataFrame\n",
        "df_scaled = pd.DataFrame(scaled_features, columns=features.columns)\n",
        "df_scaled['median_house_value'] = df['median_house_value']\n"
      ],
      "metadata": {
        "id": "1UjhMv9UuJ9g"
      },
      "execution_count": null,
      "outputs": []
    },
    {
      "cell_type": "code",
      "source": [
        "from sklearn.model_selection import train_test_split\n",
        "\n",
        "X = df_scaled.drop('median_house_value', axis=1)\n",
        "y = df_scaled['median_house_value']\n",
        "\n",
        "X_train, X_test, y_train, y_test = train_test_split(\n",
        "    X, y, test_size=0.2, random_state=42\n",
        ")\n"
      ],
      "metadata": {
        "id": "9hRoM0CIuOBo"
      },
      "execution_count": null,
      "outputs": []
    },
    {
      "cell_type": "code",
      "source": [
        "## ✅ جمع‌بندی\n",
        "- مقادیر گمشده ستون `total_bedrooms` با میانگین پر شد.\n",
        "- ستون متنی `ocean_proximity` عددی شد.\n",
        "- ویژگی‌ها نرمال‌سازی شدند.\n",
        "- داده‌ها به دو مجموعه آموزش و آزمون با نسبت 80/20 تقسیم شدند.\n",
        "\n",
        "در مرحله بعد به سراغ **ساخت مدل رگرسیون خطی** می‌رویم.\n"
      ],
      "metadata": {
        "id": "gVV8AyJ7uQSb"
      },
      "execution_count": null,
      "outputs": []
    }
  ]
}
