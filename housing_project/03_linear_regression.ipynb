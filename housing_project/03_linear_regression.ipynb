{
  "nbformat": 4,
  "nbformat_minor": 0,
  "metadata": {
    "colab": {
      "provenance": [],
      "authorship_tag": "ABX9TyP2yTC/29949rko2J2RCM53",
      "include_colab_link": true
    },
    "kernelspec": {
      "name": "python3",
      "display_name": "Python 3"
    },
    "language_info": {
      "name": "python"
    }
  },
  "cells": [
    {
      "cell_type": "markdown",
      "metadata": {
        "id": "view-in-github",
        "colab_type": "text"
      },
      "source": [
        "<a href=\"https://colab.research.google.com/github/mortymh/moryton/blob/master/03_linear_regression.ipynb\" target=\"_parent\"><img src=\"https://colab.research.google.com/assets/colab-badge.svg\" alt=\"Open In Colab\"/></a>"
      ]
    },
    {
      "cell_type": "code",
      "execution_count": null,
      "metadata": {
        "id": "XEwZGyPwvtjc"
      },
      "outputs": [],
      "source": [
        "# 📦 ایمپورت کتابخانه‌های لازم\n",
        "from sklearn.linear_model import LinearRegression\n",
        "from sklearn.metrics import mean_squared_error, mean_absolute_error, r2_score\n"
      ]
    },
    {
      "cell_type": "code",
      "source": [
        "# 🛠️ ساخت مدل رگرسیون خطی\n",
        "model = LinearRegression()\n"
      ],
      "metadata": {
        "id": "o_JxGNUIvv9S"
      },
      "execution_count": null,
      "outputs": []
    },
    {
      "cell_type": "code",
      "source": [
        "# 🎓 آموزش مدل روی داده‌های آموزشی\n",
        "model.fit(X_train, y_train)\n"
      ],
      "metadata": {
        "id": "hklO7SsjvyAW"
      },
      "execution_count": null,
      "outputs": []
    },
    {
      "cell_type": "code",
      "source": [
        "# 🔍 پیش‌بینی روی داده‌های تست\n",
        "y_pred = model.predict(X_test)\n"
      ],
      "metadata": {
        "id": "1vqzBC63vzRn"
      },
      "execution_count": null,
      "outputs": []
    },
    {
      "cell_type": "code",
      "source": [
        "# 📊 محاسبه معیارهای ارزیابی مدل\n",
        "\n",
        "# میانگین مربع خطا (هرچه کمتر، بهتر)\n",
        "mse = mean_squared_error(y_test, y_pred)\n",
        "\n",
        "# میانگین قدر مطلق خطا (دقیق‌تر از MSE در برخی موارد)\n",
        "mae = mean_absolute_error(y_test, y_pred)\n",
        "\n",
        "# ضریب تعیین R² (نشان‌دهنده درصدی از واریانس که مدل توضیح می‌دهد، بین ۰ و ۱)\n",
        "r2 = r2_score(y_test, y_pred)\n"
      ],
      "metadata": {
        "id": "zUh3NOi4v0gb"
      },
      "execution_count": null,
      "outputs": []
    },
    {
      "cell_type": "code",
      "source": [
        "# 🧾 نمایش نتایج ارزیابی مدل\n",
        "print(f\"Mean Squared Error (MSE): {mse:.2f}\")\n",
        "print(f\"Mean Absolute Error (MAE): {mae:.2f}\")\n",
        "print(f\"R-squared (R2): {r2:.2f}\")\n"
      ],
      "metadata": {
        "id": "w8iJupx5v1xn"
      },
      "execution_count": null,
      "outputs": []
    },
    {
      "cell_type": "code",
      "source": [
        "## ✅ جمع‌بندی مدل‌سازی\n",
        "\n",
        "- مدل رگرسیون خطی با داده‌های آموزش آموزش داده شد.\n",
        "- پیش‌بینی روی داده‌های تست انجام شد.\n",
        "- مدل با معیارهای MSE، MAE و R² ارزیابی شد.\n",
        "- در مراحل بعدی می‌توان به سراغ **بهبود مدل** یا **مدل‌های دیگر مانند Ridge یا Decision Tree** رفت.\n"
      ],
      "metadata": {
        "id": "9uwosaHDv28u"
      },
      "execution_count": null,
      "outputs": []
    }
  ]
}
