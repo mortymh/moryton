{
  "nbformat": 4,
  "nbformat_minor": 0,
  "metadata": {
    "colab": {
      "provenance": [],
      "authorship_tag": "ABX9TyP0E3LRg1K/R8KS52/Rhjis",
      "include_colab_link": true
    },
    "kernelspec": {
      "name": "python3",
      "display_name": "Python 3"
    },
    "language_info": {
      "name": "python"
    }
  },
  "cells": [
    {
      "cell_type": "markdown",
      "metadata": {
        "id": "view-in-github",
        "colab_type": "text"
      },
      "source": [
        "<a href=\"https://colab.research.google.com/github/mortymh/moryton/blob/master/04_model_improvement.ipynb\" target=\"_parent\"><img src=\"https://colab.research.google.com/assets/colab-badge.svg\" alt=\"Open In Colab\"/></a>"
      ]
    },
    {
      "cell_type": "code",
      "execution_count": null,
      "metadata": {
        "id": "0_VpPpIfwWZx"
      },
      "outputs": [],
      "source": [
        "from sklearn.linear_model import Ridge, Lasso\n",
        "from sklearn.metrics import mean_squared_error, r2_score\n"
      ]
    },
    {
      "cell_type": "code",
      "source": [
        "# ساخت مدل Ridge Regression با مقدار alpha=1.0 (قدرت منظم‌سازی)\n",
        "ridge = Ridge(alpha=1.0)\n",
        "\n",
        "# آموزش مدل روی داده‌های آموزش\n",
        "ridge.fit(X_train, y_train)\n"
      ],
      "metadata": {
        "id": "i-qd0TBCwYSu"
      },
      "execution_count": null,
      "outputs": []
    },
    {
      "cell_type": "code",
      "source": [
        "# پیش‌بینی روی داده‌های تست\n",
        "y_pred_ridge = ridge.predict(X_test)\n",
        "\n",
        "# ارزیابی مدل\n",
        "mse_ridge = mean_squared_error(y_test, y_pred_ridge)\n",
        "r2_ridge = r2_score(y_test, y_pred_ridge)\n"
      ],
      "metadata": {
        "id": "XiA7xlcVwZ92"
      },
      "execution_count": null,
      "outputs": []
    },
    {
      "cell_type": "code",
      "source": [
        "print(\"Ridge Regression:\")\n",
        "print(f\"Mean Squared Error: {mse_ridge:.2f}\")\n",
        "print(f\"R2 Score: {r2_ridge:.2f}\")\n"
      ],
      "metadata": {
        "id": "xnC_9_wXwb60"
      },
      "execution_count": null,
      "outputs": []
    },
    {
      "cell_type": "code",
      "source": [
        "# ساخت مدل Lasso Regression با alpha=0.1 (منظم‌سازی ملایم‌تر)\n",
        "lasso = Lasso(alpha=0.1)\n",
        "\n",
        "# آموزش مدل روی داده‌های آموزش\n",
        "lasso.fit(X_train, y_train)\n"
      ],
      "metadata": {
        "id": "kC0aeIZVwdwn"
      },
      "execution_count": null,
      "outputs": []
    },
    {
      "cell_type": "code",
      "source": [
        "# پیش‌بینی روی داده‌های تست\n",
        "y_pred_lasso = lasso.predict(X_test)\n",
        "\n",
        "# ارزیابی مدل\n",
        "mse_lasso = mean_squared_error(y_test, y_pred_lasso)\n",
        "r2_lasso = r2_score(y_test, y_pred_lasso)\n"
      ],
      "metadata": {
        "id": "4NRHAKNZwfmB"
      },
      "execution_count": null,
      "outputs": []
    },
    {
      "cell_type": "code",
      "source": [
        "print(\"\\nLasso Regression:\")\n",
        "print(f\"Mean Squared Error: {mse_lasso:.2f}\")\n",
        "print(f\"R2 Score: {r2_lasso:.2f}\")\n"
      ],
      "metadata": {
        "id": "72PYOpFfwh1G"
      },
      "execution_count": null,
      "outputs": []
    },
    {
      "cell_type": "code",
      "source": [
        "## ✅ جمع‌بندی بهبود مدل‌ها\n",
        "\n",
        "- دو مدل منظم‌سازی شده Ridge و Lasso آموزش داده شدند.\n",
        "- هر دو مدل روی داده‌های تست ارزیابی شدند.\n",
        "- Ridge با alpha=1.0 و Lasso با alpha=0.1 تنظیم شدند.\n",
        "- می‌توان با تنظیمات بیشتر، مدل‌ها را بهینه‌تر کرد یا مدل‌های پیشرفته‌تر بررسی نمود.\n"
      ],
      "metadata": {
        "id": "y4BfL9V3wjI1"
      },
      "execution_count": null,
      "outputs": []
    }
  ]
}
