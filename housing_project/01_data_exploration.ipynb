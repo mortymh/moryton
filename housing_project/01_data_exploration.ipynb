{
  "nbformat": 4,
  "nbformat_minor": 0,
  "metadata": {
    "colab": {
      "provenance": [],
      "authorship_tag": "ABX9TyNQwTp8GBgOty9VM0q/UKDr",
      "include_colab_link": true
    },
    "kernelspec": {
      "name": "python3",
      "display_name": "Python 3"
    },
    "language_info": {
      "name": "python"
    }
  },
  "cells": [
    {
      "cell_type": "markdown",
      "metadata": {
        "id": "view-in-github",
        "colab_type": "text"
      },
      "source": [
        "<a href=\"https://colab.research.google.com/github/mortymh/moryton/blob/master/01_data_exploration.ipynb\" target=\"_parent\"><img src=\"https://colab.research.google.com/assets/colab-badge.svg\" alt=\"Open In Colab\"/></a>"
      ]
    },
    {
      "cell_type": "code",
      "execution_count": null,
      "metadata": {
        "id": "m_wWU00Jxf7-"
      },
      "outputs": [],
      "source": [
        "# 📘 پروژه تحلیل قیمت مسکن در کالیفرنیا (Linear Regression)\n",
        "\n",
        "# 📘 مرحله اول: بررسی اولیه داده (Data Exploration)\n",
        "\n",
        "در این نوت‌بوک، ابتدا داده‌های مربوط به قیمت خانه در کالیفرنیا را از Google Drive بارگذاری می‌کنیم و سپس آن‌ها را از نظر ساختار، آمار توصیفی، و مقادیر گمشده بررسی می‌کنیم.\n",
        "\n",
        ""
      ]
    },
    {
      "cell_type": "code",
      "source": [
        "# 📌 اتصال به Google Drive\n",
        "from google.colab import drive\n",
        "drive.mount('/content/drive')\n"
      ],
      "metadata": {
        "id": "a1vDDCRExq7L"
      },
      "execution_count": null,
      "outputs": []
    },
    {
      "cell_type": "code",
      "source": [
        "# 📥 بارگذاری کتابخانه‌ها و فایل داده\n",
        "import pandas as pd\n",
        "\n",
        "# مسیر فایل CSV\n",
        "file_path = \"/content/drive/MyDrive/datasets/housing.csv\"\n",
        "\n",
        "# بارگذاری داده‌ها\n",
        "df = pd.read_csv(file_path)"
      ],
      "metadata": {
        "id": "ZUGhVbvhxw4p"
      },
      "execution_count": null,
      "outputs": []
    },
    {
      "cell_type": "code",
      "source": [
        "# 🔍 نمایش ۵ ردیف اول داده برای دید اولیه\n",
        "df.head()"
      ],
      "metadata": {
        "id": "nbnbOe9vxxfK"
      },
      "execution_count": null,
      "outputs": []
    },
    {
      "cell_type": "code",
      "source": [
        "# 🧾 بررسی ساختار داده‌ها (تعداد سطر، ستون، نوع هر ستون و null ها)\n",
        "df.info()\n"
      ],
      "metadata": {
        "id": "zaM0dTJNxzoK"
      },
      "execution_count": null,
      "outputs": []
    },
    {
      "cell_type": "code",
      "source": [
        "# 📊 آمار توصیفی ویژگی‌های عددی\n",
        "df.describe()"
      ],
      "metadata": {
        "id": "4o1qcd_Ex1av"
      },
      "execution_count": null,
      "outputs": []
    },
    {
      "cell_type": "code",
      "source": [
        "# 🧼 بررسی تعداد مقادیر گمشده در هر ستون\n",
        "df.isnull().sum()\n"
      ],
      "metadata": {
        "id": "RzfyN2M2x3a5"
      },
      "execution_count": null,
      "outputs": []
    },
    {
      "cell_type": "code",
      "source": [
        "# 🔎 بررسی مقادیر منحصربه‌فرد در ستون ocean_proximity (ویژگی متنی)\n",
        "df['ocean_proximity'].value_counts()"
      ],
      "metadata": {
        "id": "1JX3SbLjx66N"
      },
      "execution_count": null,
      "outputs": []
    },
    {
      "cell_type": "code",
      "source": [
        "## ✅ جمع‌بندی مرحله اول\n",
        "\n",
        "- داده‌ها با موفقیت از گوگل درایو بارگذاری شد.\n",
        "- ستون `total_bedrooms` دارای مقادیر گمشده است.\n",
        "- ستون `ocean_proximity` یک ویژگی متنی است و نیاز به Encoding دارد.\n",
        "- ستون هدف ما برای پیش‌بینی، `median_house_value` است.\n",
        "\n",
        "در مرحله بعد، به سراغ **پیش‌پردازش داده‌ها و آماده‌سازی برای مدل‌سازی** می‌رویم."
      ],
      "metadata": {
        "id": "RNbBKDR8x7eL"
      },
      "execution_count": null,
      "outputs": []
    }
  ]
}
