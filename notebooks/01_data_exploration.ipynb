{
  "nbformat": 4,
  "nbformat_minor": 0,
  "metadata": {
    "colab": {
      "provenance": [],
      "authorship_tag": "ABX9TyO7MQC3vzCWbp/XL2oRGo6G",
      "include_colab_link": true
    },
    "kernelspec": {
      "name": "python3",
      "display_name": "Python 3"
    },
    "language_info": {
      "name": "python"
    }
  },
  "cells": [
    {
      "cell_type": "markdown",
      "metadata": {
        "id": "view-in-github",
        "colab_type": "text"
      },
      "source": [
        "<a href=\"https://colab.research.google.com/github/mortymh/moryton/blob/master/notebooks/01_data_exploration.ipynb\" target=\"_parent\"><img src=\"https://colab.research.google.com/assets/colab-badge.svg\" alt=\"Open In Colab\"/></a>"
      ]
    },
    {
      "cell_type": "code",
      "source": [
        "# 📘 مرحله اول: بررسی اولیه داده (Data Exploration)\n",
        "\n",
        "در این نوت‌بوک، ابتدا داده‌های مربوط به قیمت خانه در کالیفرنیا را از Google Drive بارگذاری می‌کنیم و سپس آن‌ها را از نظر ساختار، آمار توصیفی، و مقادیر گمشده بررسی می‌کنیم.\n"
      ],
      "metadata": {
        "id": "VsvIP7EZWkvd"
      },
      "execution_count": null,
      "outputs": []
    },
    {
      "cell_type": "code",
      "source": [
        "# 📌 اتصال به Google Drive\n",
        "from google.colab import drive\n",
        "drive.mount('/content/drive')\n"
      ],
      "metadata": {
        "id": "sbIqdz68WrYc"
      },
      "execution_count": null,
      "outputs": []
    },
    {
      "cell_type": "code",
      "source": [
        "# 📥 بارگذاری کتابخانه‌ها و فایل داده\n",
        "import pandas as pd\n",
        "\n",
        "# مسیر فایل CSV\n",
        "file_path = \"/content/drive/MyDrive/datasets/housing.csv\"\n",
        "\n",
        "# بارگذاری داده‌ها\n",
        "df = pd.read_csv(file_path)\n"
      ],
      "metadata": {
        "id": "Rktsz_BvWscJ"
      },
      "execution_count": null,
      "outputs": []
    },
    {
      "cell_type": "code",
      "source": [
        "# 🔍 نمایش ۵ ردیف اول داده برای دید اولیه\n",
        "df.head()\n"
      ],
      "metadata": {
        "id": "Gr9UCSp_WvAQ"
      },
      "execution_count": null,
      "outputs": []
    },
    {
      "cell_type": "code",
      "source": [
        "# 🧾 بررسی ساختار داده‌ها (تعداد سطر، ستون، نوع هر ستون و null ها)\n",
        "df.info()\n"
      ],
      "metadata": {
        "id": "rxrmTiZDW09f"
      },
      "execution_count": null,
      "outputs": []
    },
    {
      "cell_type": "code",
      "source": [
        "# 📊 آمار توصیفی ویژگی‌های عددی\n",
        "df.describe()\n"
      ],
      "metadata": {
        "id": "rywz9GO2W1ir"
      },
      "execution_count": null,
      "outputs": []
    },
    {
      "cell_type": "code",
      "source": [
        "# 🧼 بررسی تعداد مقادیر گمشده در هر ستون\n",
        "df.isnull().sum()\n"
      ],
      "metadata": {
        "id": "_AeBn-XzW3Bu"
      },
      "execution_count": null,
      "outputs": []
    },
    {
      "cell_type": "code",
      "source": [
        "# 🔎 بررسی مقادیر منحصربه‌فرد در ستون ocean_proximity (ویژگی متنی)\n",
        "df['ocean_proximity'].value_counts()\n"
      ],
      "metadata": {
        "id": "l_l1VXn5W9Rw"
      },
      "execution_count": null,
      "outputs": []
    },
    {
      "cell_type": "code",
      "source": [
        "## ✅ جمع‌بندی مرحله اول\n",
        "\n",
        "- داده‌ها با موفقیت از گوگل درایو بارگذاری شد.\n",
        "- ستون `total_bedrooms` دارای مقادیر گمشده است.\n",
        "- ستون `ocean_proximity` یک ویژگی متنی است و نیاز به Encoding دارد.\n",
        "- ستون هدف ما برای پیش‌بینی، `median_house_value` است.\n",
        "\n",
        "در مرحله بعد، به سراغ **پیش‌پردازش داده‌ها و آماده‌سازی برای مدل‌سازی** می‌رویم.\n"
      ],
      "metadata": {
        "id": "UrE09BrxW_JH"
      },
      "execution_count": null,
      "outputs": []
    }
  ]
}